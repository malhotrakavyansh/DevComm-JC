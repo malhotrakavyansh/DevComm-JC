import pandas as pd
import matplotlib.pyplot as plt
import seaborn as sns
from sklearn.ensemble import RandomForestClassifier
from sklearn.model_selection import train_test_split
from sklearn.metrics import accuracy_score

sns.set(style="whitegrid") 


train = pd.read_csv("/kaggle/input/junior-council/train.csv")
test = pd.read_csv("/kaggle/input/junior-council/test.csv")

plt.figure(figsize=(12, 4))
sns.countplot(data=train, x="HomePlanet")
plt.title("Count of Passengers by HomePlanet")
plt.show()

plt.figure(figsize=(6, 4))
sns.countplot(data=train, x="Transported")
plt.title("Transported vs Not")
plt.show()

plt.figure(figsize=(6, 4))
sns.countplot(data=train, x="CryoSleep", hue="Transported")
plt.title("CryoSleep vs Transported")
plt.show()

plt.figure(figsize=(6, 4))
sns.countplot(data=train, x="Destination")
plt.title("Destination Count")
plt.show()

plt.figure(figsize=(6, 4))
sns.countplot(data=train, x="VIP")
plt.title("VIP vs Non-VIP")
plt.show()


train["Cabin"] = train["Cabin"].fillna("Unknown")
train[["Deck", "Num", "Side"]] = train["Cabin"].str.split("/", expand=True)

plt.figure(figsize=(6, 4))
sns.countplot(data=train, x="Side")
plt.title("Cabin Side")
plt.show()


fill_values = {
    "HomePlanet": "Earth",
    "CryoSleep": False,
    "Destination": "TRAPPIST-1e",
    "Age": train["Age"].median(),
    "VIP": False,
    "RoomService": 0,
    "FoodCourt": 0,
    "ShoppingMall": 0,
    "Spa": 0,
    "VRDeck": 0
}
train.fillna(fill_values, inplace=True)
test.fillna(fill_values, inplace=True)


def split_cabin(df):
    df["Cabin"] = df["Cabin"].fillna("Unknown")
    df[["Deck", "Num", "Side"]] = df["Cabin"].str.split("/", expand=True)
    df.drop("Cabin", axis=1, inplace=True)
    return df

train = split_cabin(train)
test = split_cabin(test)


y = train["Transported"]
train.drop("Transported", axis=1, inplace=True)


categorical_cols = ["HomePlanet", "CryoSleep", "Destination", "VIP", "Deck", "Side"]
train = pd.get_dummies(train, columns=categorical_cols)
test = pd.get_dummies(test, columns=categorical_cols)


train, test = train.align(test, join='outer', axis=1, fill_value=0)


X = train.drop(columns=["Name", "PassengerId", "Num"], errors="ignore")
X_test = test.drop(columns=["Name", "PassengerId", "Num"], errors="ignore")


missing_cols = set(X.columns) - set(X_test.columns)
for col in missing_cols:
    X_test[col] = 0
extra_cols = set(X_test.columns) - set(X.columns)
for col in extra_cols:
    X[col] = 0
X_test = X_test[X.columns]


X_train, X_valid, y_train, y_valid = train_test_split(X, y, test_size=0.2, random_state=42)
model = RandomForestClassifier(random_state=42)
model.fit(X_train, y_train)


val_preds = model.predict(X_valid)
accuracy = accuracy_score(y_valid, val_preds)
print(f"Validation Accuracy: {accuracy:.4f}")


model.fit(X, y)
final_preds = model.predict(X_test)


submission = pd.DataFrame({
    "PassengerId": test["PassengerId"],
    "Transported": final_preds
})
submission.to_csv("submission.csv", index=False)
print("Submission file saved: submission.csv")


plt.figure(figsize=(8, 5))
sns.histplot(data=train, x="Age", bins=30, kde=True, color="skyblue")
plt.title("Age Distribution of Passengers")
plt.xlabel("Age")
plt.ylabel("Count")
plt.tight_layout()
plt.show()
